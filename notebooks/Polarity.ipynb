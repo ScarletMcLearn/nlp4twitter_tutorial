{
 "cells": [
  {
   "cell_type": "markdown",
   "metadata": {},
   "source": [
    "# Lecture 1: Twitter Sentiment Analysis I\n",
    "\n",
    "WARNING: The Politecnico di Torino, especially Viviana Patti here, are world-renowned in the area of many of the topics covered here. I cannot even reach up to tie her shoelaces! So again, I will concentrate on working with whatever is available on the web, rather than the state-of-the-art.\n",
    "\n",
    "## Polarity\n",
    "\n",
    "**Def'n**: $P_s(T)=p \\in \\mathbb{R}$ is a function from a tweet's text to a real number $-1 \\leq p \\leq 1$, where -1 is negative polarity, 0 is neutral and 1 is positive polarity. We want to discuss $P_s$, of course. To do that, we will try to reproduce\n",
    "\n",
    " - Alec Go, Richa Bhayani, and Lei Huang. 2009. Twitter sentiment classification using distant supervision. Technical report, Stanford.<br>[ [paper](http://cs.stanford.edu/people/alecmgo/papers/TwitterDistantSupervision09.pdf) ]\n",
    " \n",
    "the base of [Sentiment140](http://www.sentiment140.com/), a well-known SA website and API, where Naive Bayes, Maximum Entropy and  Support Vector Machines are compared to a baseline based on an approach based on a list of positive and negative words. There's a nice API to work with Sentiment140:"
   ]
  },
  {
   "cell_type": "code",
   "execution_count": 6,
   "metadata": {
    "collapsed": false
   },
   "outputs": [
    {
     "name": "stdout",
     "output_type": "stream",
     "text": [
      "{\"data\":[{\"text\":\"I love Titanic.\",\"polarity\":4,\"meta\":{\"language\":\"en\"}}]}\r\n"
     ]
    }
   ],
   "source": [
    "!curl -d \"{'data': [{'text': 'I love Titanic.'}]}\" \\\n",
    "http://www.sentiment140.com/api/bulkClassifyJson"
   ]
  },
  {
   "cell_type": "markdown",
   "metadata": {},
   "source": [
    "where the polarity values are: 0 (negative), 2 (neutral), 4 (positive)."
   ]
  },
  {
   "cell_type": "code",
   "execution_count": 18,
   "metadata": {
    "collapsed": false
   },
   "outputs": [
    {
     "name": "stdout",
     "output_type": "stream",
     "text": [
      "{\"data\":[{\"text\":\"I hate Titanic.\",\"polarity\":0,\"meta\":{\"language\":\"en\"}}]}\r\n"
     ]
    }
   ],
   "source": [
    "!curl -d \"{'data': [{'text': 'I hate Titanic.'}]}\" \\\n",
    "http://www.sentiment140.com/api/bulkClassifyJson"
   ]
  },
  {
   "cell_type": "code",
   "execution_count": 19,
   "metadata": {
    "collapsed": false
   },
   "outputs": [
    {
     "name": "stdout",
     "output_type": "stream",
     "text": [
      "{\"data\":[{\"text\":\"Titanic was white.\",\"polarity\":2,\"meta\":{\"language\":\"en\"}}]}\r\n"
     ]
    }
   ],
   "source": [
    "!curl -d \"{'data': [{'text': 'Titanic was white.'}]}\" \\\n",
    "http://www.sentiment140.com/api/bulkClassifyJson"
   ]
  },
  {
   "cell_type": "markdown",
   "metadata": {},
   "source": [
    "Two bad things about Sentiment140, though:\n",
    "\n",
    " 1.  Sentiment140 only support English and Spanish at this stage: so no Italian (http://help.sentiment140.com/api), see the \"Specifying a Language\" section. \n",
    " 1. Unfortunately, there is no open source version of that algorithm (shame)."
   ]
  },
  {
   "cell_type": "markdown",
   "metadata": {},
   "source": [
    "Bulk processing of Spanish tweets doesn't work that well... obviously."
   ]
  },
  {
   "cell_type": "code",
   "execution_count": 23,
   "metadata": {
    "collapsed": false,
    "scrolled": true
   },
   "outputs": [
    {
     "name": "stdout",
     "output_type": "stream",
     "text": [
      "{\"data\":[{\"text\":\"Odio el mundo!\",\"polarity\":2,\"language\":\"es\",\"meta\":{\"language\":\"es\"}}]}\r\n"
     ]
    }
   ],
   "source": [
    "!curl -d \"{'data': [{'text': 'Odio el mundo!','language': 'es'}]}\" \\\n",
    "http://www.sentiment140.com/api/bulkClassifyJson"
   ]
  },
  {
   "cell_type": "markdown",
   "metadata": {
    "collapsed": true
   },
   "source": [
    "Still, there are lots of github repos doing polarity and sentiment analysis in general. The closest one is probably [http://www.sananalytics.com/lab/twitter-sentiment/](http://www.sananalytics.com/lab/twitter-sentiment/). It doesn't work for Italian either (anyone up for fixing this?), but some parts of the code are worth looking at, and at least we can use it for bootstrapping:"
   ]
  },
  {
   "cell_type": "markdown",
   "metadata": {
    "collapsed": true
   },
   "source": [
    "There is even a Quora question about it, though it seems it's from before Viviana started working on this... or was it you, Vivi? [Are there any twitter dataset in the italian language for sentiment analysis?](https://www.quora.com/Are-there-any-twitter-dataset-in-the-italian-language-for-sentiment-analysis)\n",
    "\n",
    "There's quite a bit of awesome work on the Italian language for sentiment analysis for Twitter.\n",
    "\n",
    " - http://www.aclweb.org/anthology/W13-1614\n",
    " - http://clic.humnet.unipi.it/proceedings/vol1/CLICIT2014173.pdf\n",
    " - http://clic.humnet.unipi.it/proceedings/vol2/clicit2014217.pdf\n",
    " \n",
    "and from the University of Torino itself! Look at:\n",
    "\n",
    " - http://ijcai.org/Proceedings/15/Papers/587.pdf\n",
    " - http://www.di.unito.it/~tutreeb/sentiTUT.html#corpus\n",
    " \n",
    "But actually finding a system that does this has proven to be *very* hard."
   ]
  },
  {
   "cell_type": "markdown",
   "metadata": {},
   "source": [
    "TextBlob and NLTK do provide some sentiment analysis engine, but they are not geared for Twitter. All of them have been trained on the movie review dataset. We don't want that, we want to see what happens to tweets, right? Let's look at an example of what `textblob` does, which I do think is cool: it returns a measure for polarity, and a measure for \"subjectivity\". We will talk about subjectivity tomorrow."
   ]
  },
  {
   "cell_type": "code",
   "execution_count": 10,
   "metadata": {
    "collapsed": true
   },
   "outputs": [],
   "source": [
    "from textblob import TextBlob"
   ]
  },
  {
   "cell_type": "code",
   "execution_count": 15,
   "metadata": {
    "collapsed": false
   },
   "outputs": [
    {
     "data": {
      "text/plain": [
       "Sentiment(polarity=0.5, subjectivity=0.6)"
      ]
     },
     "execution_count": 15,
     "metadata": {},
     "output_type": "execute_result"
    }
   ],
   "source": [
    "testimonial = TextBlob(\"I love cars\")\n",
    "testimonial.sentiment"
   ]
  },
  {
   "cell_type": "markdown",
   "metadata": {},
   "source": [
    "The polarity score is a float within the range [-1.0, 1.0]. The subjectivity is a float within the range [0.0, 1.0] where 0.0 is very objective and 1.0 is very subjective. Once again, it only works for English. (and was trained on the movie reviews corpus using a Naive Bayes Analyzer, hardly good for Twitter)\n",
    "\n",
    "https://github.com/sloria/TextBlob/blob/dev/textblob/en/sentiments.py"
   ]
  },
  {
   "cell_type": "markdown",
   "metadata": {},
   "source": [
    "## The goal for today\n",
    "\n",
    "We need to train an SVM, NB, and NN on the polarity column of http://www.di.unito.it/~tutreeb/sentipolc-evalita14/data.html. We want to replicate Alec Go's paper for the Italian dataset provided to us by Viviana Patti (Thanks, Vivi).\n",
    " - Baseline\n",
    "   - \n",
    " - Naive Bayes\n",
    "   - http://streamhacker.com/2010/05/10/text-classification-sentiment-analysis-naive-bayes-classifier/\n",
    "   - http://scikit-learn.org/stable/modules/naive_bayes.html\n",
    " - SVM\n",
    "   - https://marcobonzanini.com/2015/01/19/sentiment-analysis-with-python-and-scikit-learn/\n",
    "   - http://scikit-learn.org/stable/modules/svm.html\n",
    " - Maximum entropy\n",
    "   - http://ravikiranj.net/posts/2012/code/how-build-twitter-sentiment-analyzer/\n",
    "   - scikit-learn calls MaxEnt logistic regression, http://scikit-learn.org/stable/modules/generated/sklearn.linear_model.LogisticRegression.html\n",
    " - Deep learning (anyone up for doing this?)\n",
    "   - http://nlp.stanford.edu/sentiment/code.html\n",
    "   \n",
    "### Death\n",
    "\n",
    "This is what I mean: the following paper whets your appetite and then kills you with despair:\n",
    "\n",
    " - http://arxiv.org/pdf/1507.00133.pdf"
   ]
  },
  {
   "cell_type": "markdown",
   "metadata": {
    "collapsed": true
   },
   "source": [
    "#### Orphan paper(s)\n",
    "\n",
    "Anyone up for doing this in Italian as a final project? :)\n",
    "\n",
    "- Aliaksei Severyn and Alessandro Moschitti. 2015. Twitter Sentiment Analysis with Deep Convolutional Neural Networks. In Proceedings of the 38th International ACM SIGIR Conference on Research and Development in Information Retrieval (SIGIR '15). ACM, New York, NY, USA, 959-962. DOI=http://dx.doi.org/10.1145/2766462.2767830.<br>[Paper: [SM2015](http://dl.acm.org/citation.cfm?id=2767830&CFID=771940515&CFTOKEN=64862584)] [Software: [PDNN](https://www.cs.cmu.edu/~ymiao/pdnntk.html)]"
   ]
  },
  {
   "cell_type": "markdown",
   "metadata": {
    "collapsed": true
   },
   "source": [
    "This is a very good answer in StackOverflow about datasets and corpora: http://stackoverflow.com/a/33215771/50305\n",
    "\n",
    "In particular, there's code for Spanish here: http://www.sngularmeaning.team/TASS2013/corpus.php. Except as usual, most of the links are broken."
   ]
  }
 ],
 "metadata": {
  "kernelspec": {
   "display_name": "Python 2",
   "language": "python",
   "name": "python2"
  },
  "language_info": {
   "codemirror_mode": {
    "name": "ipython",
    "version": 2
   },
   "file_extension": ".py",
   "mimetype": "text/x-python",
   "name": "python",
   "nbconvert_exporter": "python",
   "pygments_lexer": "ipython2",
   "version": "2.7.11"
  }
 },
 "nbformat": 4,
 "nbformat_minor": 0
}
